{
 "cells": [
  {
   "cell_type": "code",
   "execution_count": 1,
   "metadata": {},
   "outputs": [],
   "source": [
    "import pandas as pd\n",
    "import numpy as np\n",
    "import warnings\n",
    "warnings.filterwarnings('ignore')"
   ]
  },
  {
   "cell_type": "code",
   "execution_count": 2,
   "metadata": {},
   "outputs": [
    {
     "data": {
      "text/plain": [
       "(654841, 7)"
      ]
     },
     "execution_count": 2,
     "metadata": {},
     "output_type": "execute_result"
    }
   ],
   "source": [
    "data_path = 'D:\\\\Data\\\\text_summarization\\\\'\n",
    "df_hvg = pd.read_csv(data_path + 'hvg_raw.csv', index_col=0)\n",
    "df_hvg.shape"
   ]
  },
  {
   "cell_type": "code",
   "execution_count": 3,
   "metadata": {},
   "outputs": [
    {
     "data": {
      "text/plain": [
       "73        2006-06-08T09:41:34.0000000+02:00 A WAN2 megmo...\n",
       "1968      BrandChannel rovat\\n\\n\\#1. Több lehetőség a ru...\n",
       "2114      2015-03-30T17:02:16.0000000+02:00 BrandChannel...\n",
       "2164      2017-10-31T15:36:07.0000000+01:00 BrandChannel...\n",
       "2180      2017-09-01T09:37:28.0000000+02:00 BrandChannel...\n",
       "                                ...                        \n",
       "641919    2016-01-01T17:00:07.0000000+01:00 Világ rovat\\...\n",
       "644409    2016-06-04T12:06:22.0000000+02:00 Világ rovat\\...\n",
       "644938    2016-07-16T01:20:30.0000000+02:00 Világ rovat\\...\n",
       "647801    2017-02-05T15:22:07.0000000+01:00 Világ rovat\\...\n",
       "648850    2017-05-06T16:02:08.0000000+02:00 Világ rovat\\...\n",
       "Name: content, Length: 3211, dtype: object"
      ]
     },
     "execution_count": 3,
     "metadata": {},
     "output_type": "execute_result"
    }
   ],
   "source": [
    "# Timestamp's length is 33 characters\n",
    "df_hvg.content[(df_hvg.published_time.str.len() != 33)]"
   ]
  },
  {
   "cell_type": "code",
   "execution_count": 4,
   "metadata": {},
   "outputs": [
    {
     "data": {
      "text/plain": [
       "(651630, 7)"
      ]
     },
     "execution_count": 4,
     "metadata": {},
     "output_type": "execute_result"
    }
   ],
   "source": [
    "df_hvg = df_hvg[(df_hvg.published_time.str.len() == 33)]\n",
    "df_hvg.shape"
   ]
  },
  {
   "cell_type": "code",
   "execution_count": 5,
   "metadata": {},
   "outputs": [
    {
     "data": {
      "text/plain": [
       "(651624, 7)"
      ]
     },
     "execution_count": 5,
     "metadata": {},
     "output_type": "execute_result"
    }
   ],
   "source": [
    "df_hvg = df_hvg[(df_hvg.modified_time.str.len() == 33)]\n",
    "df_hvg.shape"
   ]
  },
  {
   "cell_type": "code",
   "execution_count": 6,
   "metadata": {},
   "outputs": [
    {
     "data": {
      "text/plain": [
       "(647248, 7)"
      ]
     },
     "execution_count": 6,
     "metadata": {},
     "output_type": "execute_result"
    }
   ],
   "source": [
    "df_hvg = df_hvg[(df_hvg.content.str.len() > 40)]\n",
    "df_hvg.shape"
   ]
  },
  {
   "cell_type": "code",
   "execution_count": 7,
   "metadata": {},
   "outputs": [
    {
     "data": {
      "text/plain": [
       "(643110, 7)"
      ]
     },
     "execution_count": 7,
     "metadata": {},
     "output_type": "execute_result"
    }
   ],
   "source": [
    "df_hvg = df_hvg[(df_hvg.description.str.len() > 20)]\n",
    "df_hvg.shape"
   ]
  },
  {
   "cell_type": "code",
   "execution_count": 9,
   "metadata": {},
   "outputs": [],
   "source": [
    "df_hvg.published_time = pd.to_datetime(df_hvg.published_time, utc=True, errors='coerce')\n",
    "df_hvg = df_hvg[~pd.isna(df_hvg.published_time)]"
   ]
  },
  {
   "cell_type": "code",
   "execution_count": 15,
   "metadata": {},
   "outputs": [
    {
     "name": "stderr",
     "output_type": "stream",
     "text": [
      "C:\\Users\\gbenc\\.conda\\envs\\bert\\lib\\site-packages\\pandas\\core\\generic.py:5303: SettingWithCopyWarning: \n",
      "A value is trying to be set on a copy of a slice from a DataFrame.\n",
      "Try using .loc[row_indexer,col_indexer] = value instead\n",
      "\n",
      "See the caveats in the documentation: https://pandas.pydata.org/pandas-docs/stable/user_guide/indexing.html#returning-a-view-versus-a-copy\n",
      "  self[name] = value\n"
     ]
    }
   ],
   "source": [
    "df_hvg.modified_time = pd.to_datetime(df_hvg.modified_time, utc=True, errors='coerce')\n",
    "df_hvg = df_hvg[~pd.isna(df_hvg.modified_time)]"
   ]
  },
  {
   "cell_type": "code",
   "execution_count": 17,
   "metadata": {},
   "outputs": [],
   "source": [
    "df_hvg.to_csv(data_path + 'hvg.csv')"
   ]
  },
  {
   "cell_type": "code",
   "execution_count": null,
   "metadata": {},
   "outputs": [],
   "source": []
  }
 ],
 "metadata": {
  "kernelspec": {
   "display_name": "Python 3",
   "language": "python",
   "name": "python3"
  },
  "language_info": {
   "codemirror_mode": {
    "name": "ipython",
    "version": 3
   },
   "file_extension": ".py",
   "mimetype": "text/x-python",
   "name": "python",
   "nbconvert_exporter": "python",
   "pygments_lexer": "ipython3",
   "version": "3.7.6"
  }
 },
 "nbformat": 4,
 "nbformat_minor": 4
}
