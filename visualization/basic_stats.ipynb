{
 "cells": [
  {
   "cell_type": "code",
   "execution_count": 1,
   "metadata": {},
   "outputs": [],
   "source": [
    "import pandas as pd\n",
    "import os\n",
    "import re\n",
    "from tqdm.notebook import tqdm\n",
    "import numpy as np\n",
    "import matplotlib.pyplot as plt\n",
    "%matplotlib inline\n",
    "import warnings\n",
    "warnings.filterwarnings('ignore')"
   ]
  },
  {
   "cell_type": "code",
   "execution_count": 2,
   "metadata": {},
   "outputs": [],
   "source": [
    "data_path = 'D:\\\\Data\\\\text_summarization\\\\'"
   ]
  },
  {
   "cell_type": "code",
   "execution_count": 3,
   "metadata": {},
   "outputs": [],
   "source": [
    "def count_words(row):\n",
    "    return len(re.findall(r'\\w+', row.description)), len(re.findall(r'\\w+', row.content))"
   ]
  },
  {
   "cell_type": "markdown",
   "metadata": {},
   "source": [
    "# HVG"
   ]
  },
  {
   "cell_type": "code",
   "execution_count": 4,
   "metadata": {},
   "outputs": [
    {
     "data": {
      "text/plain": [
       "(643109, 7)"
      ]
     },
     "execution_count": 4,
     "metadata": {},
     "output_type": "execute_result"
    }
   ],
   "source": [
    "df_hvg = pd.read_csv(data_path + 'hvg.csv', index_col=0)\n",
    "df_hvg.shape"
   ]
  },
  {
   "cell_type": "code",
   "execution_count": 5,
   "metadata": {},
   "outputs": [
    {
     "data": {
      "text/html": [
       "<div>\n",
       "<style scoped>\n",
       "    .dataframe tbody tr th:only-of-type {\n",
       "        vertical-align: middle;\n",
       "    }\n",
       "\n",
       "    .dataframe tbody tr th {\n",
       "        vertical-align: top;\n",
       "    }\n",
       "\n",
       "    .dataframe thead th {\n",
       "        text-align: right;\n",
       "    }\n",
       "</style>\n",
       "<table border=\"1\" class=\"dataframe\">\n",
       "  <thead>\n",
       "    <tr style=\"text-align: right;\">\n",
       "      <th></th>\n",
       "      <th>title</th>\n",
       "      <th>description</th>\n",
       "      <th>tags</th>\n",
       "      <th>published_time</th>\n",
       "      <th>modified_time</th>\n",
       "      <th>section</th>\n",
       "      <th>content</th>\n",
       "    </tr>\n",
       "  </thead>\n",
       "  <tbody>\n",
       "    <tr>\n",
       "      <th>0</th>\n",
       "      <td>Orbán: 100 milliárdos áfa-visszaigénylést tart...</td>\n",
       "      <td>Orbán Viktor szerint a kormány úgy próbálja me...</td>\n",
       "      <td>NaN</td>\n",
       "      <td>2004-11-11 16:29:00+00:00</td>\n",
       "      <td>2004-12-02 10:28:26+00:00</td>\n",
       "      <td>Adó rovat</td>\n",
       "      <td>\"Ma nyíltan lehet Magyarországon arról beszéln...</td>\n",
       "    </tr>\n",
       "    <tr>\n",
       "      <th>1</th>\n",
       "      <td>Kovácsot adóügyekben hallgatja az EP</td>\n",
       "      <td>A meghallgatás elején Kovács jelezte, hogy a r...</td>\n",
       "      <td>NaN</td>\n",
       "      <td>2004-11-16 09:23:00+00:00</td>\n",
       "      <td>2004-12-02 10:42:20+00:00</td>\n",
       "      <td>Adó rovat</td>\n",
       "      <td>Az Európai Unió tagországainak adópolitikáját ...</td>\n",
       "    </tr>\n",
       "    <tr>\n",
       "      <th>2</th>\n",
       "      <td>KPMG: adórendszerünk nem erősíti versenyképess...</td>\n",
       "      <td>A KPMG könyvvizsgáló és tanácsadó cég tapaszta...</td>\n",
       "      <td>NaN</td>\n",
       "      <td>2004-11-16 13:16:00+00:00</td>\n",
       "      <td>2004-12-02 10:34:25+00:00</td>\n",
       "      <td>Adó rovat</td>\n",
       "      <td>Robert Stöllinger, a magyarországi KPMG ügyvez...</td>\n",
       "    </tr>\n",
       "    <tr>\n",
       "      <th>3</th>\n",
       "      <td>Draskovics szerint EU-konform az eva</td>\n",
       "      <td>A pénzügyi tárca szerint az egyszerűsített vál...</td>\n",
       "      <td>NaN</td>\n",
       "      <td>2004-11-21 08:07:00+00:00</td>\n",
       "      <td>2004-12-02 10:57:50+00:00</td>\n",
       "      <td>Adó rovat</td>\n",
       "      <td>A pénzügyminiszter szerint az egyeztetések az ...</td>\n",
       "    </tr>\n",
       "    <tr>\n",
       "      <th>4</th>\n",
       "      <td>Kártyát kapnak az APEH ügyfelei</td>\n",
       "      <td>Az Adó- és Pénzügyi Ellenőrzési Hivatal decemb...</td>\n",
       "      <td>NaN</td>\n",
       "      <td>2004-12-06 18:09:22+00:00</td>\n",
       "      <td>2004-12-06 18:16:17+00:00</td>\n",
       "      <td>Adó rovat</td>\n",
       "      <td>A következő év januárjától Magyarország több m...</td>\n",
       "    </tr>\n",
       "  </tbody>\n",
       "</table>\n",
       "</div>"
      ],
      "text/plain": [
       "                                               title  \\\n",
       "0  Orbán: 100 milliárdos áfa-visszaigénylést tart...   \n",
       "1               Kovácsot adóügyekben hallgatja az EP   \n",
       "2  KPMG: adórendszerünk nem erősíti versenyképess...   \n",
       "3               Draskovics szerint EU-konform az eva   \n",
       "4                    Kártyát kapnak az APEH ügyfelei   \n",
       "\n",
       "                                         description tags  \\\n",
       "0  Orbán Viktor szerint a kormány úgy próbálja me...  NaN   \n",
       "1  A meghallgatás elején Kovács jelezte, hogy a r...  NaN   \n",
       "2  A KPMG könyvvizsgáló és tanácsadó cég tapaszta...  NaN   \n",
       "3  A pénzügyi tárca szerint az egyszerűsített vál...  NaN   \n",
       "4  Az Adó- és Pénzügyi Ellenőrzési Hivatal decemb...  NaN   \n",
       "\n",
       "              published_time              modified_time    section  \\\n",
       "0  2004-11-11 16:29:00+00:00  2004-12-02 10:28:26+00:00  Adó rovat   \n",
       "1  2004-11-16 09:23:00+00:00  2004-12-02 10:42:20+00:00  Adó rovat   \n",
       "2  2004-11-16 13:16:00+00:00  2004-12-02 10:34:25+00:00  Adó rovat   \n",
       "3  2004-11-21 08:07:00+00:00  2004-12-02 10:57:50+00:00  Adó rovat   \n",
       "4  2004-12-06 18:09:22+00:00  2004-12-06 18:16:17+00:00  Adó rovat   \n",
       "\n",
       "                                             content  \n",
       "0  \"Ma nyíltan lehet Magyarországon arról beszéln...  \n",
       "1  Az Európai Unió tagországainak adópolitikáját ...  \n",
       "2  Robert Stöllinger, a magyarországi KPMG ügyvez...  \n",
       "3  A pénzügyminiszter szerint az egyeztetések az ...  \n",
       "4  A következő év januárjától Magyarország több m...  "
      ]
     },
     "execution_count": 5,
     "metadata": {},
     "output_type": "execute_result"
    }
   ],
   "source": [
    "df_hvg.head()"
   ]
  },
  {
   "cell_type": "code",
   "execution_count": 6,
   "metadata": {},
   "outputs": [
    {
     "data": {
      "application/vnd.jupyter.widget-view+json": {
       "model_id": "505b7fce664d44e9853f4296f75ae2e1",
       "version_major": 2,
       "version_minor": 0
      },
      "text/plain": [
       "HBox(children=(FloatProgress(value=0.0, max=643109.0), HTML(value='')))"
      ]
     },
     "metadata": {},
     "output_type": "display_data"
    },
    {
     "name": "stdout",
     "output_type": "stream",
     "text": [
      "\n"
     ]
    }
   ],
   "source": [
    "summary_word_counts, content_word_counts = [], []\n",
    "for _, row in tqdm(df_hvg.iterrows(), total=df_hvg.shape[0]):\n",
    "    sc, cc = count_words(row)\n",
    "    summary_word_counts.append(sc)\n",
    "    content_word_counts.append(cc)\n",
    "df_word_counts = pd.DataFrame({'summary_word_count': summary_word_counts,\n",
    "                               'content_word_count': content_word_counts})\n",
    "df_hvg = pd.concat([df_hvg, df_word_counts], axis=1)"
   ]
  },
  {
   "cell_type": "code",
   "execution_count": 7,
   "metadata": {},
   "outputs": [],
   "source": [
    "df_hvg['summary_ratio'] = df_hvg.summary_word_count / df_hvg.content_word_count"
   ]
  },
  {
   "cell_type": "code",
   "execution_count": 8,
   "metadata": {},
   "outputs": [
    {
     "data": {
      "image/png": "[encoded data removed]",
      "text/plain": [
       "<Figure size 864x288 with 2 Axes>"
      ]
     },
     "metadata": {
      "needs_background": "light"
     },
     "output_type": "display_data"
    }
   ],
   "source": [
    "plt.figure(figsize=(12,4))\n",
    "plt.suptitle('Summary to content ratio')\n",
    "ratios = df_hvg.summary_ratio[~np.isnan(df_hvg.summary_ratio)][~np.isinf(df_hvg.summary_ratio)]\n",
    "\n",
    "plt.subplot(121)\n",
    "plt.title('Full')\n",
    "plt.xlabel('ratio')\n",
    "plt.ylabel('# of articles')\n",
    "plt.hist(ratios, bins=30);\n",
    "\n",
    "plt.subplot(122)\n",
    "plt.title('Truncated')\n",
    "plt.xlabel('ratio')\n",
    "plt.ylabel('# of articles')\n",
    "plt.hist(ratios[ratios < 1.], bins=30);"
   ]
  },
  {
   "cell_type": "code",
   "execution_count": 9,
   "metadata": {},
   "outputs": [
    {
     "data": {
      "image/png": "[encoded data removed]",
      "text/plain": [
       "<Figure size 864x288 with 2 Axes>"
      ]
     },
     "metadata": {
      "needs_background": "light"
     },
     "output_type": "display_data"
    }
   ],
   "source": [
    "plt.figure(figsize=(12,4))\n",
    "plt.suptitle('Summary word count')\n",
    "\n",
    "plt.subplot(121)\n",
    "plt.title('Full')\n",
    "plt.xlabel('word count')\n",
    "plt.ylabel('# of articles')\n",
    "plt.hist(df_hvg.summary_word_count, bins=30);\n",
    "\n",
    "plt.subplot(122)\n",
    "plt.title('Truncated')\n",
    "plt.xlabel('word count')\n",
    "plt.ylabel('# of articles')\n",
    "plt.hist(df_hvg[df_hvg.summary_word_count < 100].summary_word_count, bins=30);"
   ]
  },
  {
   "cell_type": "code",
   "execution_count": 10,
   "metadata": {},
   "outputs": [
    {
     "data": {
      "image/png": "[encoded data removed]",
      "text/plain": [
       "<Figure size 864x288 with 2 Axes>"
      ]
     },
     "metadata": {
      "needs_background": "light"
     },
     "output_type": "display_data"
    }
   ],
   "source": [
    "plt.figure(figsize=(12,4))\n",
    "plt.suptitle('Content word count')\n",
    "\n",
    "plt.subplot(121)\n",
    "plt.title('Full')\n",
    "plt.xlabel('word count')\n",
    "plt.ylabel('# of articles')\n",
    "plt.hist(df_hvg.content_word_count, bins=30);\n",
    "\n",
    "plt.subplot(122)\n",
    "plt.title('Truncated')\n",
    "plt.xlabel('word count')\n",
    "plt.ylabel('# of articles')\n",
    "plt.hist(df_hvg[df_hvg.content_word_count < 1800].content_word_count, bins=30);"
   ]
  },
  {
   "cell_type": "code",
   "execution_count": 11,
   "metadata": {},
   "outputs": [
    {
     "data": {
      "image/png": "[encoded data removed]",
      "text/plain": [
       "<Figure size 432x288 with 1 Axes>"
      ]
     },
     "metadata": {
      "needs_background": "light"
     },
     "output_type": "display_data"
    }
   ],
   "source": [
    "df_hvg.published_time = pd.to_datetime(df_hvg.published_time, utc=True)\n",
    "years = df_hvg.published_time.dt.to_period('Y')\n",
    "years.value_counts().sort_index().plot(kind='bar');"
   ]
  },
  {
   "cell_type": "code",
   "execution_count": null,
   "metadata": {},
   "outputs": [],
   "source": []
  }
 ],
 "metadata": {
  "kernelspec": {
   "display_name": "Python 3",
   "language": "python",
   "name": "python3"
  },
  "language_info": {
   "codemirror_mode": {
    "name": "ipython",
    "version": 3
   },
   "file_extension": ".py",
   "mimetype": "text/x-python",
   "name": "python",
   "nbconvert_exporter": "python",
   "pygments_lexer": "ipython3",
   "version": "3.7.6"
  }
 },
 "nbformat": 4,
 "nbformat_minor": 2
}
