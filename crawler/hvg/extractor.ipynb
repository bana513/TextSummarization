{
 "cells": [
  {
   "cell_type": "code",
   "execution_count": 1,
   "metadata": {},
   "outputs": [],
   "source": [
    "from bs4 import BeautifulSoup\n",
    "from tqdm.notebook import tqdm\n",
    "import os\n",
    "from glob import glob\n",
    "import pandas as pd"
   ]
  },
  {
   "cell_type": "code",
   "execution_count": 2,
   "metadata": {},
   "outputs": [],
   "source": [
    "data_path = 'D:\\\\Data\\\\text_summarization\\\\hvg\\\\'"
   ]
  },
  {
   "cell_type": "code",
   "execution_count": 3,
   "metadata": {},
   "outputs": [
    {
     "data": {
      "text/plain": [
       "['D:\\\\Data\\\\text_summarization\\\\hvg\\\\_tudomany_20150411_MTAmunkatars_belathato_idon_belul_lehet.txt',\n",
       " 'D:\\\\Data\\\\text_summarization\\\\hvg\\\\_tudomany_20151219_Az_elso_magyarorszagi_tudoaultetes.txt',\n",
       " 'D:\\\\Data\\\\text_summarization\\\\hvg\\\\_tudomany_20151227_Elhunyt_a_Gproteinek_Nobeldijas_felfede.txt',\n",
       " 'D:\\\\Data\\\\text_summarization\\\\hvg\\\\_tudomany_20160310_Brit_tudosok_az_EU_mellett.txt',\n",
       " 'D:\\\\Data\\\\text_summarization\\\\hvg\\\\_tudomany_y.txt']"
      ]
     },
     "execution_count": 3,
     "metadata": {},
     "output_type": "execute_result"
    }
   ],
   "source": [
    "files = glob(data_path + '*.txt')\n",
    "files[-5:]"
   ]
  },
  {
   "cell_type": "code",
   "execution_count": 4,
   "metadata": {},
   "outputs": [],
   "source": [
    "# from dateutil.parser import parse\n",
    "\n",
    "def read_file(file):\n",
    "    res = {}\n",
    "    with open(file, 'r', encoding='utf8') as f:\n",
    "        # title, description, tags, published_time, modified_time, section, content\n",
    "        data = [line.strip() for line in f.readlines()]\n",
    "    res['title'] = data[0]\n",
    "    res['description'] = data[1]\n",
    "    res['tags'] = data[2]\n",
    "    res['published_time'] = data[3]\n",
    "    res['modified_time'] = data[4]\n",
    "    res['section'] = data[5]\n",
    "    res['content'] = '\\n'.join(data[6:])\n",
    "    return res"
   ]
  },
  {
   "cell_type": "code",
   "execution_count": 5,
   "metadata": {},
   "outputs": [],
   "source": [
    "def get_content(raw_content):\n",
    "    content = ''\n",
    "    html = BeautifulSoup(raw_content, 'html.parser')\n",
    "    if len([tag.name for tag in html.find_all()]) == 1:\n",
    "        content = html.text.strip()\n",
    "    else:\n",
    "        for p in html.find_all('p'):\n",
    "            content = content + '\\n' + p.text.strip()\n",
    "    return content.strip()"
   ]
  },
  {
   "cell_type": "code",
   "execution_count": 6,
   "metadata": {},
   "outputs": [],
   "source": [
    "column_names = ['title', 'description', 'tags', 'published_time', 'modified_time', 'section', 'content']\n",
    "df = pd.DataFrame(columns = column_names)"
   ]
  },
  {
   "cell_type": "code",
   "execution_count": 15,
   "metadata": {},
   "outputs": [
    {
     "data": {
      "application/vnd.jupyter.widget-view+json": {
       "model_id": "25c74be4d69f4b6a85391b0c452d83a2",
       "version_major": 2,
       "version_minor": 0
      },
      "text/plain": [
       "HBox(children=(FloatProgress(value=1.0, bar_style='info', max=1.0), HTML(value='')))"
      ]
     },
     "metadata": {},
     "output_type": "display_data"
    },
    {
     "name": "stdout",
     "output_type": "stream",
     "text": [
      "\n"
     ]
    }
   ],
   "source": [
    "for i, file in tqdm(enumerate(files[:])):\n",
    "    data = read_file(file)\n",
    "    raw_content = data['content']\n",
    "    content = get_content(raw_content)\n",
    "    df.loc[i] = [data['title'],\n",
    "                 data['description'],\n",
    "                 data['tags'],\n",
    "                 data['published_time'],\n",
    "                 data['modified_time'],\n",
    "                 data['section'],\n",
    "                 content]"
   ]
  },
  {
   "cell_type": "code",
   "execution_count": 13,
   "metadata": {},
   "outputs": [
    {
     "data": {
      "text/plain": [
       "'<div class=\"article-content entry-content\">\\n<p>Az ellenzékben lévő Északi Liga pártja tüntetést hirdetett meg vasárnapra az olaszországi Vignola városában, miután ott élő muzulmánok olasz fiatalokat fenyegettek meg fegyverrel.\\xa0Az Északi Liga az érintett muzulmánok azonnali kiutasítását követeli Olaszországból.</p>\\n<p>Az Emilia-Romagna tartomány huszonötezer lakosú városában tartózkodási engedéllyel élő huszonéves muzulmán férfiak öt olasz fiatalkorút fenyegettek meg az utóbbi napokban. Négy marokkói bevándorlóról van szó.\\xa0 Öt 16-17 éves olasz fiút riasztópisztollyal ijesztgettek az Iszlám Állam (IÁ) terroristáinak videóin látott kivégzéseket utánozva. Azt a kérdést is a fiataloknak szegezték, hogy Istenben vagy Allahban hisznek-e. A fiatalok szülei jelentették az esetet a hatóságoknak. A muzulmán férfiak ezzel egy időben önként jelentkeztek a csendőrségen azt állítva, hogy tréfáról volt szó. A pisztolyt is átadták. Az ügyben vizsgálat indult.</p>\\n<p>\"Bizonyos tettek elfogadhatatlanok, az ügyészségtől példamutató választ várunk. Nincsen semmilyen tréfa abban, hogy muzulmán fiatalok a terroristákat utánozzák, a történteket nagyon is komolyan kell venni!\"- nyilatkozta Gianluca Vinci, az Északi Liga tartományi főtitkára, a demonstráció szervezője.</p>\\n<p>Mauro Smeraldi, Vignola független polgármestere \"súlyos epizódról\" beszélt. A Hajrá Olaszország (FI) jobbközép ellenzéki párt helyi szervezete is a négy marokkói azonnali kiutasítását sürgeti. A bevándorlók befogadását szorgalmazó Demokrata Párt (PD) balközép kormányerő is elítélte a történteket, hangsúlyozva, hogy az eset Vignolában törést okozott az olaszok és bevándorlók eddigi békés együttélésében. Ugyanakkor a PD szerint egyszerű vitáról volt szó két csoport fiatal között és nem vallási fanatizmus áll a háttérben. A helyi sajtóértesülések szerint a muzulmán fiatalok ittasak lehettek.</p>\\n<p>A Garda-tó partján levő Desenzano del Gardában húsz ott élő pakisztánit kísértek pénteken a helyi rendőrségre, miután egy utcai tüntetésen Allah Akbar (Allah hatalmas) kiáltással vettek részt. A férfiak egy helyi szupermarketet ellátó olasz szövetkezet dolgozói, akiket elbocsátottak állásukból. A szövetkezet olasz és nem olasz tagjai a szupermarket előtt tüntettek és a megmozduláson résztvevő egyik pakisztáni Allah Akbart-t kiáltott. Többi társa Allah Akbarral válaszolt neki. A tüntetést felügyelő olasz terrorizmus ellenes nyomozóigazgatóság (Digos) emberei vitték őket a rendőrségre, ahol azonosították őket. <br/></p>\\n</div>'"
      ]
     },
     "execution_count": 13,
     "metadata": {},
     "output_type": "execute_result"
    }
   ],
   "source": [
    "read_file(files[-2000])['content']"
   ]
  },
  {
   "cell_type": "code",
   "execution_count": 16,
   "metadata": {},
   "outputs": [
    {
     "data": {
      "text/html": [
       "<div>\n",
       "<style scoped>\n",
       "    .dataframe tbody tr th:only-of-type {\n",
       "        vertical-align: middle;\n",
       "    }\n",
       "\n",
       "    .dataframe tbody tr th {\n",
       "        vertical-align: top;\n",
       "    }\n",
       "\n",
       "    .dataframe thead th {\n",
       "        text-align: right;\n",
       "    }\n",
       "</style>\n",
       "<table border=\"1\" class=\"dataframe\">\n",
       "  <thead>\n",
       "    <tr style=\"text-align: right;\">\n",
       "      <th></th>\n",
       "      <th>title</th>\n",
       "      <th>description</th>\n",
       "      <th>tags</th>\n",
       "      <th>published_time</th>\n",
       "      <th>modified_time</th>\n",
       "      <th>section</th>\n",
       "      <th>content</th>\n",
       "    </tr>\n",
       "  </thead>\n",
       "  <tbody>\n",
       "    <tr>\n",
       "      <th>0</th>\n",
       "      <td>Kamion mentése miatt terelés az M60-ason</td>\n",
       "      <td>Lezárták az M60-as autópályát egy kamion műsza...</td>\n",
       "      <td>kamion,M60-as autópálya</td>\n",
       "      <td>2011-12-14T13:32:00.0000000+01:00</td>\n",
       "      <td>2011-12-14T13:34:33.0000000+01:00</td>\n",
       "      <td>Baleset rovat</td>\n",
       "      <td>Lezárták az M60-as autópályát Bóly és Mohács k...</td>\n",
       "    </tr>\n",
       "    <tr>\n",
       "      <th>1</th>\n",
       "      <td>Szivárgó nitrogén miatt zárták le az M60-ast</td>\n",
       "      <td>Tartályautóból szivárgó nitrogén miatt kellett...</td>\n",
       "      <td>nitrogén,M60-as autópálya</td>\n",
       "      <td>2011-12-14T17:15:00.0000000+01:00</td>\n",
       "      <td>2011-12-14T17:25:02.0000000+01:00</td>\n",
       "      <td>Baleset rovat</td>\n",
       "      <td>Az Országos Katasztrófavédelmi Főigazgatóságna...</td>\n",
       "    </tr>\n",
       "    <tr>\n",
       "      <th>2</th>\n",
       "      <td>Szén borítja a 34-es utat</td>\n",
       "      <td>Lezárták a 34-es főút tiszafüredi szakaszát, m...</td>\n",
       "      <td>baleset,közlekedés,szén,Tiszafüred,34-es út</td>\n",
       "      <td>2011-12-14T20:36:00.0000000+01:00</td>\n",
       "      <td>2011-12-14T20:26:51.0000000+01:00</td>\n",
       "      <td>Baleset rovat</td>\n",
       "      <td>Szerdán este ütközött össze egy szenet szállít...</td>\n",
       "    </tr>\n",
       "    <tr>\n",
       "      <th>3</th>\n",
       "      <td>Árokba dőlt egy busz a 85-ös úton</td>\n",
       "      <td>Árokba dőlt egy diákokat szállító busz a 85-ös...</td>\n",
       "      <td>baleset,85-ös út,Kapuvár</td>\n",
       "      <td>2011-12-15T16:15:00.0000000+01:00</td>\n",
       "      <td>2011-12-15T16:52:15.0000000+01:00</td>\n",
       "      <td>Baleset rovat</td>\n",
       "      <td>A forgalmat lassították, a helyszínre kivonult...</td>\n",
       "    </tr>\n",
       "    <tr>\n",
       "      <th>4</th>\n",
       "      <td>Gázolás miatt késnek a vonatok a Budapest-Szol...</td>\n",
       "      <td>Gázolás miatt fél órás késéssel közlekednek a ...</td>\n",
       "      <td>vonat,gázolás,késés</td>\n",
       "      <td>2011-12-15T15:45:00.0000000+01:00</td>\n",
       "      <td>2011-12-15T15:40:01.0000000+01:00</td>\n",
       "      <td>Baleset rovat</td>\n",
       "      <td>A közlemény szerint Szemeretelep megállóhelyné...</td>\n",
       "    </tr>\n",
       "  </tbody>\n",
       "</table>\n",
       "</div>"
      ],
      "text/plain": [
       "                                               title  \\\n",
       "0           Kamion mentése miatt terelés az M60-ason   \n",
       "1       Szivárgó nitrogén miatt zárták le az M60-ast   \n",
       "2                          Szén borítja a 34-es utat   \n",
       "3                  Árokba dőlt egy busz a 85-ös úton   \n",
       "4  Gázolás miatt késnek a vonatok a Budapest-Szol...   \n",
       "\n",
       "                                         description  \\\n",
       "0  Lezárták az M60-as autópályát egy kamion műsza...   \n",
       "1  Tartályautóból szivárgó nitrogén miatt kellett...   \n",
       "2  Lezárták a 34-es főút tiszafüredi szakaszát, m...   \n",
       "3  Árokba dőlt egy diákokat szállító busz a 85-ös...   \n",
       "4  Gázolás miatt fél órás késéssel közlekednek a ...   \n",
       "\n",
       "                                          tags  \\\n",
       "0                      kamion,M60-as autópálya   \n",
       "1                    nitrogén,M60-as autópálya   \n",
       "2  baleset,közlekedés,szén,Tiszafüred,34-es út   \n",
       "3                     baleset,85-ös út,Kapuvár   \n",
       "4                          vonat,gázolás,késés   \n",
       "\n",
       "                      published_time                      modified_time  \\\n",
       "0  2011-12-14T13:32:00.0000000+01:00  2011-12-14T13:34:33.0000000+01:00   \n",
       "1  2011-12-14T17:15:00.0000000+01:00  2011-12-14T17:25:02.0000000+01:00   \n",
       "2  2011-12-14T20:36:00.0000000+01:00  2011-12-14T20:26:51.0000000+01:00   \n",
       "3  2011-12-15T16:15:00.0000000+01:00  2011-12-15T16:52:15.0000000+01:00   \n",
       "4  2011-12-15T15:45:00.0000000+01:00  2011-12-15T15:40:01.0000000+01:00   \n",
       "\n",
       "         section                                            content  \n",
       "0  Baleset rovat  Lezárták az M60-as autópályát Bóly és Mohács k...  \n",
       "1  Baleset rovat  Az Országos Katasztrófavédelmi Főigazgatóságna...  \n",
       "2  Baleset rovat  Szerdán este ütközött össze egy szenet szállít...  \n",
       "3  Baleset rovat  A forgalmat lassították, a helyszínre kivonult...  \n",
       "4  Baleset rovat  A közlemény szerint Szemeretelep megállóhelyné...  "
      ]
     },
     "execution_count": 16,
     "metadata": {},
     "output_type": "execute_result"
    }
   ],
   "source": [
    "df.head()"
   ]
  },
  {
   "cell_type": "code",
   "execution_count": 17,
   "metadata": {},
   "outputs": [
    {
     "data": {
      "text/plain": [
       "array(['Baleset rovat', 'Világ rovat', 'Hírek rovat', 'w.hvg.hu rovat',\n",
       "       'Tudomány rovat'], dtype=object)"
      ]
     },
     "execution_count": 17,
     "metadata": {},
     "output_type": "execute_result"
    }
   ],
   "source": [
    "df.section.unique()"
   ]
  },
  {
   "cell_type": "code",
   "execution_count": null,
   "metadata": {},
   "outputs": [],
   "source": []
  }
 ],
 "metadata": {
  "kernelspec": {
   "display_name": "Python 3",
   "language": "python",
   "name": "python3"
  },
  "language_info": {
   "codemirror_mode": {
    "name": "ipython",
    "version": 3
   },
   "file_extension": ".py",
   "mimetype": "text/x-python",
   "name": "python",
   "nbconvert_exporter": "python",
   "pygments_lexer": "ipython3",
   "version": "3.6.7"
  }
 },
 "nbformat": 4,
 "nbformat_minor": 2
}
