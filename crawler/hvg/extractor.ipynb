{
 "cells": [
  {
   "cell_type": "code",
   "execution_count": 1,
   "metadata": {},
   "outputs": [],
   "source": [
    "from bs4 import BeautifulSoup\n",
    "import bs4\n",
    "from tqdm.notebook import tqdm\n",
    "import os\n",
    "from glob import glob\n",
    "import pandas as pd\n",
    "from multiprocessing import Pool\n",
    "from extractor_func import extract_file"
   ]
  },
  {
   "cell_type": "code",
   "execution_count": 2,
   "metadata": {},
   "outputs": [],
   "source": [
    "data_path = 'D:\\\\Data\\\\text_summarization\\\\hvg\\\\'"
   ]
  },
  {
   "cell_type": "code",
   "execution_count": 3,
   "metadata": {},
   "outputs": [
    {
     "data": {
      "text/plain": [
       "['D:\\\\Data\\\\text_summarization\\\\hvg\\\\_tudomany_20170721_deli_sark_jegtabla_olvadas_larse_c_jegself.txt',\n",
       " 'D:\\\\Data\\\\text_summarization\\\\hvg\\\\_tudomany_20171015_Onnek_a_balin_a_domolyko_vagy_a_kovicsik_a_kedvence.txt',\n",
       " 'D:\\\\Data\\\\text_summarization\\\\hvg\\\\_tudomany_20171030_A_mai_Magyarorszag_teruleterol_szarmazhatnak_az_oriaspandak_osei.txt',\n",
       " 'D:\\\\Data\\\\text_summarization\\\\hvg\\\\_tudomany_20171129_2018ban_minden_Semmelweis_Ignacrol_fog_szolni.txt',\n",
       " 'D:\\\\Data\\\\text_summarization\\\\hvg\\\\_tudomany_y.txt']"
      ]
     },
     "execution_count": 3,
     "metadata": {},
     "output_type": "execute_result"
    }
   ],
   "source": [
    "files = glob(data_path + '*.txt')\n",
    "files[-5:]"
   ]
  },
  {
   "cell_type": "code",
   "execution_count": 4,
   "metadata": {},
   "outputs": [
    {
     "data": {
      "text/plain": [
       "654841"
      ]
     },
     "execution_count": 4,
     "metadata": {},
     "output_type": "execute_result"
    }
   ],
   "source": [
    "len(files)"
   ]
  },
  {
   "cell_type": "code",
   "execution_count": 5,
   "metadata": {},
   "outputs": [
    {
     "data": {
      "application/vnd.jupyter.widget-view+json": {
       "model_id": "8eb140af4741412bad9f42e926245ac5",
       "version_major": 2,
       "version_minor": 0
      },
      "text/plain": [
       "HBox(children=(FloatProgress(value=0.0, max=654841.0), HTML(value='')))"
      ]
     },
     "metadata": {},
     "output_type": "display_data"
    },
    {
     "name": "stdout",
     "output_type": "stream",
     "text": [
      "\n"
     ]
    }
   ],
   "source": [
    "with Pool(6) as p:\n",
    "    rows = list(tqdm(p.imap(extract_file, files), total=len(files)))"
   ]
  },
  {
   "cell_type": "code",
   "execution_count": 6,
   "metadata": {},
   "outputs": [],
   "source": [
    "column_names = ['title', 'description', 'tags', 'published_time', 'modified_time', 'section', 'content']\n",
    "df = pd.DataFrame.from_records(rows, columns = column_names)"
   ]
  },
  {
   "cell_type": "code",
   "execution_count": 7,
   "metadata": {},
   "outputs": [
    {
     "data": {
      "text/html": [
       "<div>\n",
       "<style scoped>\n",
       "    .dataframe tbody tr th:only-of-type {\n",
       "        vertical-align: middle;\n",
       "    }\n",
       "\n",
       "    .dataframe tbody tr th {\n",
       "        vertical-align: top;\n",
       "    }\n",
       "\n",
       "    .dataframe thead th {\n",
       "        text-align: right;\n",
       "    }\n",
       "</style>\n",
       "<table border=\"1\" class=\"dataframe\">\n",
       "  <thead>\n",
       "    <tr style=\"text-align: right;\">\n",
       "      <th></th>\n",
       "      <th>title</th>\n",
       "      <th>description</th>\n",
       "      <th>tags</th>\n",
       "      <th>published_time</th>\n",
       "      <th>modified_time</th>\n",
       "      <th>section</th>\n",
       "      <th>content</th>\n",
       "    </tr>\n",
       "  </thead>\n",
       "  <tbody>\n",
       "    <tr>\n",
       "      <th>0</th>\n",
       "      <td>Orbán: 100 milliárdos áfa-visszaigénylést tart...</td>\n",
       "      <td>Orbán Viktor szerint a kormány úgy próbálja me...</td>\n",
       "      <td></td>\n",
       "      <td>2004-11-11T17:29:00.0000000+01:00</td>\n",
       "      <td>2004-12-02T11:28:26.0000000+01:00</td>\n",
       "      <td>Adó rovat</td>\n",
       "      <td>\"Ma nyíltan lehet Magyarországon arról beszéln...</td>\n",
       "    </tr>\n",
       "    <tr>\n",
       "      <th>1</th>\n",
       "      <td>Kovácsot adóügyekben hallgatja az EP</td>\n",
       "      <td>A meghallgatás elején Kovács jelezte, hogy a r...</td>\n",
       "      <td></td>\n",
       "      <td>2004-11-16T10:23:00.0000000+01:00</td>\n",
       "      <td>2004-12-02T11:42:20.0000000+01:00</td>\n",
       "      <td>Adó rovat</td>\n",
       "      <td>Az Európai Unió tagországainak adópolitikáját ...</td>\n",
       "    </tr>\n",
       "    <tr>\n",
       "      <th>2</th>\n",
       "      <td>KPMG: adórendszerünk nem erősíti versenyképess...</td>\n",
       "      <td>A KPMG könyvvizsgáló és tanácsadó cég tapaszta...</td>\n",
       "      <td></td>\n",
       "      <td>2004-11-16T14:16:00.0000000+01:00</td>\n",
       "      <td>2004-12-02T11:34:25.0000000+01:00</td>\n",
       "      <td>Adó rovat</td>\n",
       "      <td>Robert Stöllinger, a magyarországi KPMG ügyvez...</td>\n",
       "    </tr>\n",
       "    <tr>\n",
       "      <th>3</th>\n",
       "      <td>Draskovics szerint EU-konform az eva</td>\n",
       "      <td>A pénzügyi tárca szerint az egyszerűsített vál...</td>\n",
       "      <td></td>\n",
       "      <td>2004-11-21T09:07:00.0000000+01:00</td>\n",
       "      <td>2004-12-02T11:57:50.0000000+01:00</td>\n",
       "      <td>Adó rovat</td>\n",
       "      <td>A pénzügyminiszter szerint az egyeztetések az ...</td>\n",
       "    </tr>\n",
       "    <tr>\n",
       "      <th>4</th>\n",
       "      <td>Kártyát kapnak az APEH ügyfelei</td>\n",
       "      <td>Az Adó- és Pénzügyi Ellenőrzési Hivatal decemb...</td>\n",
       "      <td></td>\n",
       "      <td>2004-12-06T19:09:22.0000000+01:00</td>\n",
       "      <td>2004-12-06T19:16:17.0000000+01:00</td>\n",
       "      <td>Adó rovat</td>\n",
       "      <td>A következő év januárjától Magyarország több m...</td>\n",
       "    </tr>\n",
       "  </tbody>\n",
       "</table>\n",
       "</div>"
      ],
      "text/plain": [
       "                                               title  \\\n",
       "0  Orbán: 100 milliárdos áfa-visszaigénylést tart...   \n",
       "1               Kovácsot adóügyekben hallgatja az EP   \n",
       "2  KPMG: adórendszerünk nem erősíti versenyképess...   \n",
       "3               Draskovics szerint EU-konform az eva   \n",
       "4                    Kártyát kapnak az APEH ügyfelei   \n",
       "\n",
       "                                         description tags  \\\n",
       "0  Orbán Viktor szerint a kormány úgy próbálja me...        \n",
       "1  A meghallgatás elején Kovács jelezte, hogy a r...        \n",
       "2  A KPMG könyvvizsgáló és tanácsadó cég tapaszta...        \n",
       "3  A pénzügyi tárca szerint az egyszerűsített vál...        \n",
       "4  Az Adó- és Pénzügyi Ellenőrzési Hivatal decemb...        \n",
       "\n",
       "                      published_time                      modified_time  \\\n",
       "0  2004-11-11T17:29:00.0000000+01:00  2004-12-02T11:28:26.0000000+01:00   \n",
       "1  2004-11-16T10:23:00.0000000+01:00  2004-12-02T11:42:20.0000000+01:00   \n",
       "2  2004-11-16T14:16:00.0000000+01:00  2004-12-02T11:34:25.0000000+01:00   \n",
       "3  2004-11-21T09:07:00.0000000+01:00  2004-12-02T11:57:50.0000000+01:00   \n",
       "4  2004-12-06T19:09:22.0000000+01:00  2004-12-06T19:16:17.0000000+01:00   \n",
       "\n",
       "     section                                            content  \n",
       "0  Adó rovat  \"Ma nyíltan lehet Magyarországon arról beszéln...  \n",
       "1  Adó rovat  Az Európai Unió tagországainak adópolitikáját ...  \n",
       "2  Adó rovat  Robert Stöllinger, a magyarországi KPMG ügyvez...  \n",
       "3  Adó rovat  A pénzügyminiszter szerint az egyeztetések az ...  \n",
       "4  Adó rovat  A következő év januárjától Magyarország több m...  "
      ]
     },
     "execution_count": 7,
     "metadata": {},
     "output_type": "execute_result"
    }
   ],
   "source": [
    "df.head()"
   ]
  },
  {
   "cell_type": "code",
   "execution_count": 8,
   "metadata": {},
   "outputs": [],
   "source": [
    "df.to_csv('D:\\\\Data\\\\text_summarization\\\\hvg.csv')"
   ]
  },
  {
   "cell_type": "code",
   "execution_count": null,
   "metadata": {},
   "outputs": [],
   "source": []
  }
 ],
 "metadata": {
  "kernelspec": {
   "display_name": "Python 3",
   "language": "python",
   "name": "python3"
  },
  "language_info": {
   "codemirror_mode": {
    "name": "ipython",
    "version": 3
   },
   "file_extension": ".py",
   "mimetype": "text/x-python",
   "name": "python",
   "nbconvert_exporter": "python",
   "pygments_lexer": "ipython3",
   "version": "3.6.7"
  }
 },
 "nbformat": 4,
 "nbformat_minor": 2
}
