{
 "cells": [
  {
   "cell_type": "code",
   "execution_count": null,
   "metadata": {},
   "outputs": [],
   "source": [
    "from bs4 import BeautifulSoup\n",
    "import requests\n",
    "from tqdm.notebook import tqdm\n",
    "import os"
   ]
  },
  {
   "cell_type": "code",
   "execution_count": null,
   "metadata": {},
   "outputs": [],
   "source": [
    "data_path = 'D:\\\\Data\\\\text_summarization\\\\'"
   ]
  },
  {
   "cell_type": "code",
   "execution_count": null,
   "metadata": {},
   "outputs": [],
   "source": [
    "with open(data_path + 'hvg_article_urls.txt', 'r') as f:\n",
    "    articles = [a.strip() for a in f.readlines()]"
   ]
  },
  {
   "cell_type": "code",
   "execution_count": null,
   "metadata": {},
   "outputs": [],
   "source": [
    "if os.path.isfile(data_path + 'hvg_bad_article_urls.txt'):\n",
    "    with open(data_path + 'hvg_bad_article_urls.txt', 'r') as f:\n",
    "        bad_article_urls = set([a.strip() for a in f.readlines()])\n",
    "else:\n",
    "    bad_article_urls = set()\n",
    "    \n",
    "len(bad_article_urls)"
   ]
  },
  {
   "cell_type": "code",
   "execution_count": null,
   "metadata": {},
   "outputs": [],
   "source": [
    "def get_content(article):\n",
    "    title, description, tags, published_time, modified_time, section, content = [None]*7\n",
    "    \n",
    "    for meta in article.find_all('meta'):\n",
    "        meta_content = meta.get('content')\n",
    "        name = meta.get('name')\n",
    "        itemprop = meta.get('itemprop')\n",
    "        property = meta.get('property')\n",
    "        \n",
    "        if itemprop == 'name' and title is None:\n",
    "            title = meta_content\n",
    "        if property == 'og:title':\n",
    "            title = meta_content\n",
    "        \n",
    "        if itemprop == 'description' and description is None:\n",
    "            description = meta_content\n",
    "        if property == 'og:description':\n",
    "            description = meta_content\n",
    "         \n",
    "        if itemprop == 'datePublished' and published_time is None:\n",
    "            published_time = meta_content\n",
    "        if itemprop == 'dateModified' and modified_time is None:\n",
    "            modified_time = meta_content\n",
    "        if property == 'article:published_time':\n",
    "            published_time = meta_content\n",
    "        if property == 'article:modified_time':\n",
    "            modified_time = meta_content\n",
    "            \n",
    "        if property == 'article:tag':\n",
    "            tags = meta_content\n",
    "\n",
    "        if property == 'article:section':\n",
    "            section = meta_content\n",
    "            \n",
    "    content = str(article.findAll(\"div\", {\"class\": \"entry-content\"})[-1])\n",
    "    \n",
    "    return title.strip(), description.strip(), tags.strip(), published_time, modified_time, section.strip(), content.strip()"
   ]
  },
  {
   "cell_type": "code",
   "execution_count": null,
   "metadata": {},
   "outputs": [],
   "source": [
    "def get_article(url):\n",
    "    filename = '_'.join(url.split('/')[3:])\n",
    "    path = data_path + 'hvg/' + filename + '.txt'\n",
    "    \n",
    "    if os.path.isfile(path) or url in bad_article_urls:\n",
    "        return\n",
    "    \n",
    "    article_content = requests.get(url).content.decode('utf-8','ignore')\n",
    "    article = BeautifulSoup(article_content, 'html.parser')\n",
    "    processed = get_content(article)\n",
    "\n",
    "    with open(path, 'w', encoding=\"utf-8\") as f:\n",
    "        for data in processed:\n",
    "            f.write(data + '\\n')"
   ]
  },
  {
   "cell_type": "code",
   "execution_count": null,
   "metadata": {},
   "outputs": [],
   "source": [
    "for article_url in tqdm(articles):\n",
    "    try:\n",
    "        get_article(article_url)\n",
    "    except Exception as e:\n",
    "#         print(article_url)\n",
    "        with open(data_path + 'hvg_bad_article_urls.txt', 'a') as f:\n",
    "            f.write(article_url + '\\n')"
   ]
  }
 ],
 "metadata": {
  "kernelspec": {
   "display_name": "Python 3",
   "language": "python",
   "name": "python3"
  },
  "language_info": {
   "codemirror_mode": {
    "name": "ipython",
    "version": 3
   },
   "file_extension": ".py",
   "mimetype": "text/x-python",
   "name": "python",
   "nbconvert_exporter": "python",
   "pygments_lexer": "ipython3",
   "version": "3.6.7"
  }
 },
 "nbformat": 4,
 "nbformat_minor": 2
}
