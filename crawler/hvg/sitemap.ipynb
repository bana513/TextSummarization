{
 "cells": [
  {
   "cell_type": "code",
   "execution_count": null,
   "metadata": {},
   "outputs": [],
   "source": [
    "from bs4 import BeautifulSoup\n",
    "import requests\n",
    "from tqdm.notebook import tqdm\n",
    "import os"
   ]
  },
  {
   "cell_type": "code",
   "execution_count": null,
   "metadata": {},
   "outputs": [],
   "source": [
    "sitemap_url = 'https://hvg.hu/sitemap-articles.xml'\n",
    "data_path = 'D:\\\\Data\\\\text_summarization\\\\'"
   ]
  },
  {
   "cell_type": "code",
   "execution_count": null,
   "metadata": {},
   "outputs": [],
   "source": [
    "sitemap_content = requests.get(sitemap_url).content\n",
    "sitemap = BeautifulSoup(sitemap_content, 'html.parser')"
   ]
  },
  {
   "cell_type": "code",
   "execution_count": null,
   "metadata": {},
   "outputs": [],
   "source": [
    "print(sitemap.prettify())"
   ]
  },
  {
   "cell_type": "code",
   "execution_count": null,
   "metadata": {},
   "outputs": [],
   "source": [
    "sitemaps = []\n",
    "for loc in sitemap.find_all('loc'):\n",
    "    url = loc.text\n",
    "    sitemaps.append(url)"
   ]
  },
  {
   "cell_type": "code",
   "execution_count": null,
   "metadata": {},
   "outputs": [],
   "source": [
    "articles = []\n",
    "for sitemap_url in tqdm(sitemaps):\n",
    "    sitemap_content = requests.get(sitemap_url).content\n",
    "    sitemap = BeautifulSoup(sitemap_content, 'html.parser')\n",
    "    for loc in sitemap.find_all('loc'):\n",
    "        url = loc.text\n",
    "        if url.startswith('https://hvg.hu'):\n",
    "            articles.append(url)"
   ]
  },
  {
   "cell_type": "code",
   "execution_count": null,
   "metadata": {},
   "outputs": [],
   "source": [
    "len(articles)"
   ]
  },
  {
   "cell_type": "code",
   "execution_count": null,
   "metadata": {},
   "outputs": [],
   "source": [
    "with open(data_path + 'hvg_article_urls.txt', 'w') as f:\n",
    "    for article in articles:\n",
    "        try:\n",
    "            f.write(article + '\\n')\n",
    "        except Exception as e:\n",
    "            print(e)\n",
    "            print(article)"
   ]
  }
 ],
 "metadata": {
  "kernelspec": {
   "display_name": "Python 3",
   "language": "python",
   "name": "python3"
  },
  "language_info": {
   "codemirror_mode": {
    "name": "ipython",
    "version": 3
   },
   "file_extension": ".py",
   "mimetype": "text/x-python",
   "name": "python",
   "nbconvert_exporter": "python",
   "pygments_lexer": "ipython3",
   "version": "3.6.7"
  }
 },
 "nbformat": 4,
 "nbformat_minor": 2
}
